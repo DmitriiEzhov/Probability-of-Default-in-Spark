{
  "cells": [
    {
      "cell_type": "markdown",
      "metadata": {
        "id": "9aco7h88Jv3m"
      },
      "source": [
        "**Ваша любимая домашка**"
      ]
    },
    {
      "cell_type": "markdown",
      "metadata": {
        "id": "hzvvR75kJ4v8"
      },
      "source": [
        "Кто проходил курс GPU прекрасно знают датасет.\n",
        "Данные находятся в файле Train_Set_90621.csv\n",
        "Amount Defaulted - эту переменную нужно удалить=)\n",
        "\n",
        "Что ожидается? - творчество)\n",
        "\n",
        "    1) Начните с анализа баланса классов, пропусков, статистик при помощи DataFrame API\n",
        "    2) Посомтрите статистики, заполните пропуски при помощи уже MLlib\n",
        "    3) Соберите пайплайн, похожий на наш, где будет обработка данных, обучение моделей и все при помощи Spark\n",
        "    4) Разбейте данные на train/test + реализуйте подбор параметров одним из способов спарка\n",
        "    5) Cохраниет пайплайн на диск\n",
        "    6) Проверьте качество модели на отложенной test выборке\n",
        "\n",
        "### Срок выполнения - 02.03.2023\n"
      ]
    },
    {
      "cell_type": "code",
      "source": [
        "from pyspark.sql import SparkSession\n",
        "from pyspark.sql import functions as F\n",
        "from pyspark.sql.types import DoubleType\n",
        "from pyspark.ml.feature import StringIndexer, IndexToString, OneHotEncoder\n",
        "from pyspark.ml.feature import Imputer, VectorAssembler, StandardScaler\n",
        "from pyspark.ml.classification import LogisticRegression\n",
        "from pyspark.ml import Pipeline\n",
        "from pyspark.ml.tuning import CrossValidator, ParamGridBuilder\n",
        "from pyspark.ml.evaluation import BinaryClassificationEvaluator\n",
        "from google.colab import drive\n",
        "drive.mount('/content/drive')\n",
        "spark = SparkSession.builder.appName(\"Homework_Pipeline\").getOrCreate()"
      ],
      "metadata": {
        "id": "SqAGfUIfQwZz",
        "colab": {
          "base_uri": "https://localhost:8080/"
        },
        "outputId": "2095c35b-202f-44a9-adda-d05d51e37b4d"
      },
      "execution_count": null,
      "outputs": [
        {
          "output_type": "stream",
          "name": "stdout",
          "text": [
            "Mounted at /content/drive\n"
          ]
        }
      ]
    },
    {
      "cell_type": "code",
      "source": [
        "df = spark.read.csv(\"/content/drive/MyDrive/Colab Notebooks/Train_Set_90621.csv\", header=True, inferSchema=True)"
      ],
      "metadata": {
        "id": "gtPQH-pgPoIk"
      },
      "execution_count": null,
      "outputs": []
    },
    {
      "cell_type": "code",
      "source": [
        "df.printSchema()"
      ],
      "metadata": {
        "colab": {
          "base_uri": "https://localhost:8080/"
        },
        "id": "SGZZc6zYQqLf",
        "outputId": "4eff018e-e65d-4180-9dc8-106dc045fa87"
      },
      "execution_count": null,
      "outputs": [
        {
          "output_type": "stream",
          "name": "stdout",
          "text": [
            "root\n",
            " |-- Application ID: integer (nullable = true)\n",
            " |-- Bank Masked: string (nullable = true)\n",
            " |-- Bank Type: string (nullable = true)\n",
            " |-- Approved_Timestamp: string (nullable = true)\n",
            " |-- Name Masked: string (nullable = true)\n",
            " |-- Business Owner State: string (nullable = true)\n",
            " |-- Business_Industry_Type_Code: integer (nullable = true)\n",
            " |-- Approved_Year: integer (nullable = true)\n",
            " |-- New Business: integer (nullable = true)\n",
            " |-- Term: integer (nullable = true)\n",
            " |-- BankState: string (nullable = true)\n",
            " |-- Interest Rate: integer (nullable = true)\n",
            " |-- Employees: integer (nullable = true)\n",
            " |-- Gross Disbursed Amount: integer (nullable = true)\n",
            " |-- Term_years: integer (nullable = true)\n",
            " |-- Jobs Retained: integer (nullable = true)\n",
            " |-- Male to Female Employees Ratio: integer (nullable = true)\n",
            " |-- Expected Company Income: long (nullable = true)\n",
            " |-- Funds available with company: integer (nullable = true)\n",
            " |-- Gross_Apprv_Amount: integer (nullable = true)\n",
            " |-- Company Branch Code: integer (nullable = true)\n",
            " |-- City or Rural: integer (nullable = true)\n",
            " |-- Jobs Generated: integer (nullable = true)\n",
            " |-- Carry-forward Credit: string (nullable = true)\n",
            " |-- Documents Provided: string (nullable = true)\n",
            " |-- Balance Left: integer (nullable = true)\n",
            " |-- Amount Defaulted: integer (nullable = true)\n",
            " |-- Final_Appved_Amount: integer (nullable = true)\n",
            " |-- Default_Status: integer (nullable = true)\n",
            "\n"
          ]
        }
      ]
    },
    {
      "cell_type": "code",
      "source": [
        "df.show(5)"
      ],
      "metadata": {
        "colab": {
          "base_uri": "https://localhost:8080/"
        },
        "id": "KtTOxPPAQrHg",
        "outputId": "ad22ef98-343f-4775-ec3d-b85566468d60"
      },
      "execution_count": null,
      "outputs": [
        {
          "output_type": "stream",
          "name": "stdout",
          "text": [
            "+--------------+--------------+---------+------------------+--------------------+--------------------+---------------------------+-------------+------------+----+-------------+-------------+---------+----------------------+----------+-------------+------------------------------+-----------------------+----------------------------+------------------+-------------------+-------------+--------------+--------------------+------------------+------------+----------------+-------------------+--------------+\n",
            "|Application ID|   Bank Masked|Bank Type|Approved_Timestamp|         Name Masked|Business Owner State|Business_Industry_Type_Code|Approved_Year|New Business|Term|    BankState|Interest Rate|Employees|Gross Disbursed Amount|Term_years|Jobs Retained|Male to Female Employees Ratio|Expected Company Income|Funds available with company|Gross_Apprv_Amount|Company Branch Code|City or Rural|Jobs Generated|Carry-forward Credit|Documents Provided|Balance Left|Amount Defaulted|Final_Appved_Amount|Default_Status|\n",
            "+--------------+--------------+---------+------------------+--------------------+--------------------+---------------------------+-------------+------------+----+-------------+-------------+---------+----------------------+----------+-------------+------------------------------+-----------------------+----------------------------+------------------+-------------------+-------------+--------------+--------------------+------------------+------------+----------------+-------------------+--------------+\n",
            "|    1020200001| Bank_Name_316|  Private|        12-10-2005| Business_Name_10007|       Uttar Pradesh|                     525161|         2005|           1| 219|Uttar Pradesh|            3|       42|              18550000|        18|           18|                             4|                3500000|                      780590|          18550000|              25650|            1|             3|                   N|                 N|           0|               0|           13912500|             0|\n",
            "|    1020200002|Bank_Name_1062|     Govt|        21-11-2006|Business_Name_130906|       Uttar Pradesh|                       1231|         2006|           1|  71|Uttar Pradesh|            5|       20|               3045000|         6|           10|                            16|                1666667|                     1835637|           2450000|                  0|            1|             0|                   Y|                 N|           0|         2369500|            1225000|             1|\n",
            "|    1020200003|  Bank_Name_39|  Private|        28-11-2007|Business_Name_105953|       Uttar Pradesh|                     322442|         2007|           2|  84|  Maharashtra|            8|       16|               1750000|         7|           10|                             8|                1333333|                     2373333|           1750000|                  0|            2|             2|                   Y|                 N|           0|               0|            1487500|             0|\n",
            "|    1020200004|   Bank_Name_3|     Govt|        18-04-2009|Business_Name_103197|              Kerala|                       1231|         2009|           1| 300|        Delhi|            8|        4|              38850000|        25|            2|                             6|                 333333|                     2346786|          38850000|                  1|            1|             0|                   N|                 N|           0|               0|           29137500|             0|\n",
            "|    1020200005| Bank_Name_126|     Govt|        23-11-2002|Business_Name_118932|               Delhi|                       1231|         2002|           2| 153|  Maharashtra|           11|        4|               2800000|        13|            0|                             8|                 333333|                     2382995|           2800000|                  1|            2|             0|                   N|                 Y|           0|               0|            2380000|             0|\n",
            "+--------------+--------------+---------+------------------+--------------------+--------------------+---------------------------+-------------+------------+----+-------------+-------------+---------+----------------------+----------+-------------+------------------------------+-----------------------+----------------------------+------------------+-------------------+-------------+--------------+--------------------+------------------+------------+----------------+-------------------+--------------+\n",
            "only showing top 5 rows\n",
            "\n"
          ]
        }
      ]
    },
    {
      "cell_type": "code",
      "source": [
        "target='Default_Status'"
      ],
      "metadata": {
        "id": "0Xxu9KPYSvd3"
      },
      "execution_count": null,
      "outputs": []
    },
    {
      "cell_type": "code",
      "source": [
        "df.groupBy(target).count().show()\n"
      ],
      "metadata": {
        "colab": {
          "base_uri": "https://localhost:8080/"
        },
        "id": "ad6J29PgRcBU",
        "outputId": "471e9474-a6e8-4887-8f39-41ebb932eceb"
      },
      "execution_count": null,
      "outputs": [
        {
          "output_type": "stream",
          "name": "stdout",
          "text": [
            "+--------------+------+\n",
            "|Default_Status| count|\n",
            "+--------------+------+\n",
            "|             1| 35238|\n",
            "|             0|159880|\n",
            "+--------------+------+\n",
            "\n"
          ]
        }
      ]
    },
    {
      "cell_type": "code",
      "source": [
        "missing_counts = df.select([F.count(F.when(F.col(c).isNull(), c)).alias(c) for c in df.columns])\n",
        "missing_counts.show()\n"
      ],
      "metadata": {
        "colab": {
          "base_uri": "https://localhost:8080/"
        },
        "id": "Zy0zbNLERl9I",
        "outputId": "5810119b-1f6b-473d-f783-b5cbda0deeea"
      },
      "execution_count": null,
      "outputs": [
        {
          "output_type": "stream",
          "name": "stdout",
          "text": [
            "+--------------+-----------+---------+------------------+-----------+--------------------+---------------------------+-------------+------------+----+---------+-------------+---------+----------------------+----------+-------------+------------------------------+-----------------------+----------------------------+------------------+-------------------+-------------+--------------+--------------------+------------------+------------+----------------+-------------------+--------------+\n",
            "|Application ID|Bank Masked|Bank Type|Approved_Timestamp|Name Masked|Business Owner State|Business_Industry_Type_Code|Approved_Year|New Business|Term|BankState|Interest Rate|Employees|Gross Disbursed Amount|Term_years|Jobs Retained|Male to Female Employees Ratio|Expected Company Income|Funds available with company|Gross_Apprv_Amount|Company Branch Code|City or Rural|Jobs Generated|Carry-forward Credit|Documents Provided|Balance Left|Amount Defaulted|Final_Appved_Amount|Default_Status|\n",
            "+--------------+-----------+---------+------------------+-----------+--------------------+---------------------------+-------------+------------+----+---------+-------------+---------+----------------------+----------+-------------+------------------------------+-----------------------+----------------------------+------------------+-------------------+-------------+--------------+--------------------+------------------+------------+----------------+-------------------+--------------+\n",
            "|             0|         80|       80|               426|          1|                   3|                          0|            0|          36|   0|       81|            0|        0|                     0|         0|            0|                             0|                      3|                           0|                 0|                  0|            0|             0|                 978|               552|           0|               0|                  0|             0|\n",
            "+--------------+-----------+---------+------------------+-----------+--------------------+---------------------------+-------------+------------+----+---------+-------------+---------+----------------------+----------+-------------+------------------------------+-----------------------+----------------------------+------------------+-------------------+-------------+--------------+--------------------+------------------+------------+----------------+-------------------+--------------+\n",
            "\n"
          ]
        }
      ]
    },
    {
      "cell_type": "code",
      "source": [
        "df.describe().show()"
      ],
      "metadata": {
        "colab": {
          "base_uri": "https://localhost:8080/"
        },
        "id": "KYnkqX-yRp5J",
        "outputId": "e49dfe77-59b3-48f5-c10a-236f83ef43d3"
      },
      "execution_count": null,
      "outputs": [
        {
          "output_type": "stream",
          "name": "stdout",
          "text": [
            "+-------+-----------------+---------------+---------+------------------+-------------------+--------------------+---------------------------+-----------------+-------------------+------------------+-----------+------------------+------------------+----------------------+-----------------+------------------+------------------------------+-----------------------+----------------------------+--------------------+-------------------+------------------+-----------------+--------------------+------------------+----------------+-----------------+--------------------+-------------------+\n",
            "|summary|   Application ID|    Bank Masked|Bank Type|Approved_Timestamp|        Name Masked|Business Owner State|Business_Industry_Type_Code|    Approved_Year|       New Business|              Term|  BankState|     Interest Rate|         Employees|Gross Disbursed Amount|       Term_years|     Jobs Retained|Male to Female Employees Ratio|Expected Company Income|Funds available with company|  Gross_Apprv_Amount|Company Branch Code|     City or Rural|   Jobs Generated|Carry-forward Credit|Documents Provided|    Balance Left| Amount Defaulted| Final_Appved_Amount|     Default_Status|\n",
            "+-------+-----------------+---------------+---------+------------------+-------------------+--------------------+---------------------------+-----------------+-------------------+------------------+-----------+------------------+------------------+----------------------+-----------------+------------------+------------------------------+-----------------------+----------------------------+--------------------+-------------------+------------------+-----------------+--------------------+------------------+----------------+-----------------+--------------------+-------------------+\n",
            "|  count|           195118|         195038|   195038|            194692|             195117|              195115|                     195118|           195118|             195082|            195118|     195037|            195118|            195118|                195118|           195118|            195118|                        195118|                 195115|                      195118|              195118|             195118|            195118|           195118|              194140|            194566|          195118|           195118|              195118|             195118|\n",
            "|   mean|   1.0202975595E9|           NULL|     NULL|              NULL|               NULL|                NULL|          399104.7059881713|2008.122751360715| 1.2793030623020063|110.73985998216465|        0.0| 7.327914390266403|19.122981990385306|   1.414491644937935E7|9.245461720599842|11.418362221834991|             15.32921104152359|   1.8325220522256106E7|           1253178.777488494|1.3565614745999856E7|  2812.721501860413|0.7546971576174417|9.055151241812647|                NULL|              NULL|9.18418597976609|947164.9372174786| 1.052897772045634E7|0.18059840711774414|\n",
            "| stddev|56325.85924925306|           NULL|     NULL|              NULL|               NULL|                NULL|          263815.8896713594|6.256458086968012|0.45111900679753403|  78.8517723449654|        0.0|2.9777137747977767|130.03260689491412|  2.0299306581284177E7|6.569698906552672|248.74419770593946|             11.79194668211102|     1.75906858249903E8|           645567.0835725025|1.9969551972906575E7| 12897.919612614003|0.6469141971067709|248.3170371124524|                NULL|              NULL|3962.91144972547|4576773.103095641|1.6101767759185921E7|0.38468608097312673|\n",
            "|    min|       1020200001|    Bank_Name_1|     Govt|        01-01-2001|    Business_Name_1|               Delhi|                       1230|             1900|                  0|                 0|          0|                 2|                 0|                     0|                0|                 0|                             1|                      0|                      100002|               14000|                  0|                 0|                0|                   N|                 N|               0|                0|                7000|                  0|\n",
            "|    max|       1020395118|Bank_Number_999|  Private|        31-12-2016|Business_Name_99999|         Uttarakhand|                     929351|             2017|                  2|               461|Uttarakhand|                12|             22222|             732550000|               38|              8800|                            50|            43200000000|                     2500000|           350000000|              92000|                 2|             8800|                   Y|                 Y|         1750000|        139999930|           315000000|                  1|\n",
            "+-------+-----------------+---------------+---------+------------------+-------------------+--------------------+---------------------------+-----------------+-------------------+------------------+-----------+------------------+------------------+----------------------+-----------------+------------------+------------------------------+-----------------------+----------------------------+--------------------+-------------------+------------------+-----------------+--------------------+------------------+----------------+-----------------+--------------------+-------------------+\n",
            "\n"
          ]
        }
      ]
    },
    {
      "cell_type": "code",
      "source": [
        "df = df.withColumn(\"Documents Provided\", F.when(F.col(\"Documents Provided\") == \"Y\", 1).otherwise(0))"
      ],
      "metadata": {
        "id": "co3_t5bvebz5"
      },
      "execution_count": null,
      "outputs": []
    },
    {
      "cell_type": "code",
      "source": [
        "df = df.withColumn(\"Carry-forward Credit\", F.when(F.col(\"Carry-forward Credit\") == \"Y\", 1).otherwise(0))"
      ],
      "metadata": {
        "id": "UczXWHvhcyh8"
      },
      "execution_count": null,
      "outputs": []
    },
    {
      "cell_type": "code",
      "source": [
        "df = df.withColumn(\"Bank Type\", F.when(F.col(\"Bank Type\") == \"Govt\", 1).otherwise(0))"
      ],
      "metadata": {
        "id": "zHuGei2Hftk9"
      },
      "execution_count": null,
      "outputs": []
    },
    {
      "cell_type": "code",
      "source": [
        "df = df.withColumn(\"Expected Company Income\", df[\"Expected Company Income\"].cast(DoubleType()))"
      ],
      "metadata": {
        "id": "07d8mlbbgyqb"
      },
      "execution_count": null,
      "outputs": []
    },
    {
      "cell_type": "code",
      "source": [
        "numeric_cols = [field.name for field in df.schema.fields\n",
        "                if field.dataType.simpleString() in [\"int\", \"double\", \"long\", \"float\"] and field.name not in ['Application ID', 'Approved_Year']]"
      ],
      "metadata": {
        "id": "DEMED3nbR1sC"
      },
      "execution_count": null,
      "outputs": []
    },
    {
      "cell_type": "code",
      "source": [
        "cat_cols = [field.name for field in df.schema.fields\n",
        "                if field.name not in numeric_cols and field.name not in ['Approved_Timestamp', 'Bank Masked', 'Name Masked', 'Application ID']]\n",
        "#отфильтровываем дату, имя клиента и имя банка, тк слишком много уникальных значений, чтобы выделить категории"
      ],
      "metadata": {
        "id": "w4e63cgzU6u-"
      },
      "execution_count": null,
      "outputs": []
    },
    {
      "cell_type": "code",
      "source": [
        "df[numeric_cols].show(5)"
      ],
      "metadata": {
        "colab": {
          "base_uri": "https://localhost:8080/"
        },
        "id": "eWBfK6MPl09P",
        "outputId": "7688edf5-0739-491f-a389-965c44421dcb"
      },
      "execution_count": null,
      "outputs": [
        {
          "output_type": "stream",
          "name": "stdout",
          "text": [
            "+---------+---------------------------+------------+----+-------------+---------+----------------------+----------+-------------+------------------------------+-----------------------+----------------------------+------------------+-------------------+-------------+--------------+--------------------+------------------+------------+----------------+-------------------+--------------+\n",
            "|Bank Type|Business_Industry_Type_Code|New Business|Term|Interest Rate|Employees|Gross Disbursed Amount|Term_years|Jobs Retained|Male to Female Employees Ratio|Expected Company Income|Funds available with company|Gross_Apprv_Amount|Company Branch Code|City or Rural|Jobs Generated|Carry-forward Credit|Documents Provided|Balance Left|Amount Defaulted|Final_Appved_Amount|Default_Status|\n",
            "+---------+---------------------------+------------+----+-------------+---------+----------------------+----------+-------------+------------------------------+-----------------------+----------------------------+------------------+-------------------+-------------+--------------+--------------------+------------------+------------+----------------+-------------------+--------------+\n",
            "|        0|                     525161|           1| 219|            3|       42|              18550000|        18|           18|                             4|              3500000.0|                      780590|          18550000|              25650|            1|             3|                   0|                 0|           0|               0|           13912500|             0|\n",
            "|        1|                       1231|           1|  71|            5|       20|               3045000|         6|           10|                            16|              1666667.0|                     1835637|           2450000|                  0|            1|             0|                   1|                 0|           0|         2369500|            1225000|             1|\n",
            "|        0|                     322442|           2|  84|            8|       16|               1750000|         7|           10|                             8|              1333333.0|                     2373333|           1750000|                  0|            2|             2|                   1|                 0|           0|               0|            1487500|             0|\n",
            "|        1|                       1231|           1| 300|            8|        4|              38850000|        25|            2|                             6|               333333.0|                     2346786|          38850000|                  1|            1|             0|                   0|                 0|           0|               0|           29137500|             0|\n",
            "|        1|                       1231|           2| 153|           11|        4|               2800000|        13|            0|                             8|               333333.0|                     2382995|           2800000|                  1|            2|             0|                   0|                 1|           0|               0|            2380000|             0|\n",
            "+---------+---------------------------+------------+----+-------------+---------+----------------------+----------+-------------+------------------------------+-----------------------+----------------------------+------------------+-------------------+-------------+--------------+--------------------+------------------+------------+----------------+-------------------+--------------+\n",
            "only showing top 5 rows\n",
            "\n"
          ]
        }
      ]
    },
    {
      "cell_type": "code",
      "source": [
        "df[cat_cols].show(5)"
      ],
      "metadata": {
        "colab": {
          "base_uri": "https://localhost:8080/"
        },
        "id": "6s-To-LAl4zW",
        "outputId": "b70a6d7d-004d-4d83-bde1-e422c2f7ca2f"
      },
      "execution_count": null,
      "outputs": [
        {
          "output_type": "stream",
          "name": "stdout",
          "text": [
            "+--------------------+-------------+-------------+\n",
            "|Business Owner State|Approved_Year|    BankState|\n",
            "+--------------------+-------------+-------------+\n",
            "|       Uttar Pradesh|         2005|Uttar Pradesh|\n",
            "|       Uttar Pradesh|         2006|Uttar Pradesh|\n",
            "|       Uttar Pradesh|         2007|  Maharashtra|\n",
            "|              Kerala|         2009|        Delhi|\n",
            "|               Delhi|         2002|  Maharashtra|\n",
            "+--------------------+-------------+-------------+\n",
            "only showing top 5 rows\n",
            "\n"
          ]
        }
      ]
    },
    {
      "cell_type": "code",
      "source": [
        "#df = df.withColumn(\"Business Owner State\", df[\"Business Owner State\"].cast(DoubleType()))\n",
        "owner_indexer = StringIndexer(inputCol=\"Business Owner State\", outputCol=\"Business_Owner_State_indexer\")\n",
        "owner_indexer = owner_indexer.fit(df)\n",
        "df = owner_indexer.transform(df)"
      ],
      "metadata": {
        "id": "nONVmvHSkz-A"
      },
      "execution_count": null,
      "outputs": []
    },
    {
      "cell_type": "code",
      "source": [
        "df.show(5)"
      ],
      "metadata": {
        "colab": {
          "base_uri": "https://localhost:8080/"
        },
        "id": "WpEtRPYm9Trd",
        "outputId": "31b762f0-1fd9-4e4f-872e-5d02c04c171e"
      },
      "execution_count": null,
      "outputs": [
        {
          "output_type": "stream",
          "name": "stdout",
          "text": [
            "+--------------+--------------+---------+------------------+--------------------+--------------------+---------------------------+-------------+------------+----+-------------+-------------+---------+----------------------+----------+-------------+------------------------------+-----------------------+----------------------------+------------------+-------------------+-------------+--------------+--------------------+------------------+------------+----------------+-------------------+--------------+----------------------------+\n",
            "|Application ID|   Bank Masked|Bank Type|Approved_Timestamp|         Name Masked|Business Owner State|Business_Industry_Type_Code|Approved_Year|New Business|Term|    BankState|Interest Rate|Employees|Gross Disbursed Amount|Term_years|Jobs Retained|Male to Female Employees Ratio|Expected Company Income|Funds available with company|Gross_Apprv_Amount|Company Branch Code|City or Rural|Jobs Generated|Carry-forward Credit|Documents Provided|Balance Left|Amount Defaulted|Final_Appved_Amount|Default_Status|Business_Owner_State_indexer|\n",
            "+--------------+--------------+---------+------------------+--------------------+--------------------+---------------------------+-------------+------------+----+-------------+-------------+---------+----------------------+----------+-------------+------------------------------+-----------------------+----------------------------+------------------+-------------------+-------------+--------------+--------------------+------------------+------------+----------------+-------------------+--------------+----------------------------+\n",
            "|    1020200001| Bank_Name_316|        0|        12-10-2005| Business_Name_10007|       Uttar Pradesh|                     525161|         2005|           1| 219|Uttar Pradesh|            3|       42|              18550000|        18|           18|                             4|              3500000.0|                      780590|          18550000|              25650|            1|             3|                   0|                 0|           0|               0|           13912500|             0|                         3.0|\n",
            "|    1020200002|Bank_Name_1062|        1|        21-11-2006|Business_Name_130906|       Uttar Pradesh|                       1231|         2006|           1|  71|Uttar Pradesh|            5|       20|               3045000|         6|           10|                            16|              1666667.0|                     1835637|           2450000|                  0|            1|             0|                   1|                 0|           0|         2369500|            1225000|             1|                         3.0|\n",
            "|    1020200003|  Bank_Name_39|        0|        28-11-2007|Business_Name_105953|       Uttar Pradesh|                     322442|         2007|           2|  84|  Maharashtra|            8|       16|               1750000|         7|           10|                             8|              1333333.0|                     2373333|           1750000|                  0|            2|             2|                   1|                 0|           0|               0|            1487500|             0|                         3.0|\n",
            "|    1020200004|   Bank_Name_3|        1|        18-04-2009|Business_Name_103197|              Kerala|                       1231|         2009|           1| 300|        Delhi|            8|        4|              38850000|        25|            2|                             6|               333333.0|                     2346786|          38850000|                  1|            1|             0|                   0|                 0|           0|               0|           29137500|             0|                         9.0|\n",
            "|    1020200005| Bank_Name_126|        1|        23-11-2002|Business_Name_118932|               Delhi|                       1231|         2002|           2| 153|  Maharashtra|           11|        4|               2800000|        13|            0|                             8|               333333.0|                     2382995|           2800000|                  1|            2|             0|                   0|                 1|           0|               0|            2380000|             0|                         0.0|\n",
            "+--------------+--------------+---------+------------------+--------------------+--------------------+---------------------------+-------------+------------+----+-------------+-------------+---------+----------------------+----------+-------------+------------------------------+-----------------------+----------------------------+------------------+-------------------+-------------+--------------+--------------------+------------------+------------+----------------+-------------------+--------------+----------------------------+\n",
            "only showing top 5 rows\n",
            "\n"
          ]
        }
      ]
    },
    {
      "cell_type": "code",
      "source": [
        "bank_indexer = StringIndexer(inputCol=\"BankState\", outputCol=\"BankStateindexer\")\n",
        "bank_indexer = bank_indexer.fit(df)\n",
        "df = bank_indexer.transform(df)"
      ],
      "metadata": {
        "id": "AbEYenh1lS6E"
      },
      "execution_count": null,
      "outputs": []
    },
    {
      "cell_type": "code",
      "source": [
        "df.show()"
      ],
      "metadata": {
        "colab": {
          "base_uri": "https://localhost:8080/"
        },
        "id": "4WgjMx_ileTx",
        "outputId": "489ac594-1437-4bbe-db95-fe934953116a"
      },
      "execution_count": null,
      "outputs": [
        {
          "output_type": "stream",
          "name": "stdout",
          "text": [
            "+--------------+---------------+---------+------------------+--------------------+--------------------+---------------------------+-------------+------------+----+-------------+-------------+---------+----------------------+----------+-------------+------------------------------+-----------------------+----------------------------+------------------+-------------------+-------------+--------------+--------------------+------------------+------------+----------------+-------------------+--------------+----------------------------+----------------+\n",
            "|Application ID|    Bank Masked|Bank Type|Approved_Timestamp|         Name Masked|Business Owner State|Business_Industry_Type_Code|Approved_Year|New Business|Term|    BankState|Interest Rate|Employees|Gross Disbursed Amount|Term_years|Jobs Retained|Male to Female Employees Ratio|Expected Company Income|Funds available with company|Gross_Apprv_Amount|Company Branch Code|City or Rural|Jobs Generated|Carry-forward Credit|Documents Provided|Balance Left|Amount Defaulted|Final_Appved_Amount|Default_Status|Business_Owner_State_indexer|BankStateindexer|\n",
            "+--------------+---------------+---------+------------------+--------------------+--------------------+---------------------------+-------------+------------+----+-------------+-------------+---------+----------------------+----------+-------------+------------------------------+-----------------------+----------------------------+------------------+-------------------+-------------+--------------+--------------------+------------------+------------+----------------+-------------------+--------------+----------------------------+----------------+\n",
            "|    1020200001|  Bank_Name_316|        0|        12-10-2005| Business_Name_10007|       Uttar Pradesh|                     525161|         2005|           1| 219|Uttar Pradesh|            3|       42|              18550000|        18|           18|                             4|              3500000.0|                      780590|          18550000|              25650|            1|             3|                   0|                 0|           0|               0|           13912500|             0|                         3.0|             3.0|\n",
            "|    1020200002| Bank_Name_1062|        1|        21-11-2006|Business_Name_130906|       Uttar Pradesh|                       1231|         2006|           1|  71|Uttar Pradesh|            5|       20|               3045000|         6|           10|                            16|              1666667.0|                     1835637|           2450000|                  0|            1|             0|                   1|                 0|           0|         2369500|            1225000|             1|                         3.0|             3.0|\n",
            "|    1020200003|   Bank_Name_39|        0|        28-11-2007|Business_Name_105953|       Uttar Pradesh|                     322442|         2007|           2|  84|  Maharashtra|            8|       16|               1750000|         7|           10|                             8|              1333333.0|                     2373333|           1750000|                  0|            2|             2|                   1|                 0|           0|               0|            1487500|             0|                         3.0|             1.0|\n",
            "|    1020200004|    Bank_Name_3|        1|        18-04-2009|Business_Name_103197|              Kerala|                       1231|         2009|           1| 300|        Delhi|            8|        4|              38850000|        25|            2|                             6|               333333.0|                     2346786|          38850000|                  1|            1|             0|                   0|                 0|           0|               0|           29137500|             0|                         9.0|             0.0|\n",
            "|    1020200005|  Bank_Name_126|        1|        23-11-2002|Business_Name_118932|               Delhi|                       1231|         2002|           2| 153|  Maharashtra|           11|        4|               2800000|        13|            0|                             8|               333333.0|                     2382995|           2800000|                  1|            2|             0|                   0|                 1|           0|               0|            2380000|             0|                         0.0|             1.0|\n",
            "|    1020200006| Bank_Name_1281|        0|        23-12-2009|Business_Name_135212|         Maharashtra|                     239391|         2009|           1|  84|  Maharashtra|            6|       10|              10500000|         7|            0|                            16|               833333.0|                      392186|          10500000|                  1|            2|             0|                   0|                 1|           0|               0|            7875000|             0|                         2.0|             1.0|\n",
            "|    1020200007|   Bank_Name_33|        0|        04-10-2009| Business_Name_60742|               Delhi|                     423561|         2009|           2|  60|        Delhi|            6|        2|               2310000|         5|            0|                             9|               166667.0|                     2496022|           2310000|                  1|            0|             0|                   0|                 1|           0|               0|            1848000|             0|                         0.0|             0.0|\n",
            "|    1020200008|   Bank_Name_33|        0|        03-03-2006| Business_Name_99424|       Uttar Pradesh|                     443530|         2006|           1|  60|        Delhi|            6|        6|               3500000|         5|            2|                             5|               500000.0|                     1525676|           3500000|                  1|            0|             0|                   0|                 0|           0|               0|            1750000|             0|                         3.0|             0.0|\n",
            "|    1020200009|Bank_Name_12778|        1|        03-08-2017|Business_Name_146709|             Haryana|                       1231|         2017|           2|  73|      Haryana|            5|        2|               4900000|         6|            0|                            10|               166667.0|                     2358557|           4900000|                  1|            0|             0|                   0|                 1|           0|               0|            3920000|             0|                         1.0|             2.0|\n",
            "|    1020200010|   Bank_Name_17|        0|        20-06-2017| Business_Name_17874|         Maharashtra|                     542341|         2017|           1| 120|        Delhi|           12|       60|              42000000|        10|            0|                            10|              5000000.0|                     1186740|          42000000|                  1|            0|             0|                   0|                 0|           0|               0|           31500000|             0|                         2.0|             0.0|\n",
            "|    1020200011|Bank_Number_346|        1|        05-09-2010| Business_Name_17760|       Uttar Pradesh|                       1230|         2010|           1| 303|Uttar Pradesh|            8|        8|               9800000|        25|            0|                            21|                 3.36E7|                     1547232|           9800000|                  1|            0|             0|                   0|                 0|           0|               0|            7350000|             1|                         3.0|             3.0|\n",
            "|    1020200012|   Bank_Name_47|        0|        15-09-2010| Business_Name_98384|             Haryana|                     813541|         2010|           1|  82|        Delhi|           11|        4|              19600000|         7|            0|                             4|               333333.0|                      349235|          19600000|                  1|            2|             0|                   0|                 0|           0|               0|           14700000|             0|                         1.0|             0.0|\n",
            "|    1020200013| Bank_Number_93|        1|        29-03-2010| Business_Name_65515|               Delhi|                       1230|         2010|           1|  24|        Delhi|           11|        5|               7910000|         2|            0|                            33|                  3.3E7|                      267120|           7910000|                  1|            0|             0|                   0|                 0|           0|               0|            5932500|             0|                         0.0|             0.0|\n",
            "|    1020200014|  Bank_Name_666|        0|        18-09-2004| Business_Name_11879|         Maharashtra|                     625641|         2004|           1| 240|  Maharashtra|            8|       14|               6930000|        20|            4|                             3|              1166667.0|                     1323194|           6930000|                  1|            0|             3|                   0|                 0|           0|               0|            6930000|             0|                         2.0|             1.0|\n",
            "|    1020200015|    Bank_Name_3|        0|        19-05-2011|Business_Name_130563|              Kerala|                     446541|         2011|           1|  37|       Kerala|            5|        2|               1750000|         3|            1|                             4|               166667.0|                      833449|           1750000|                  1|            0|             3|                   0|                 0|           0|         1232280|            1487500|             1|                         9.0|             9.0|\n",
            "|    1020200016| Bank_Number_24|        0|        13-12-2008| Business_Name_54437|       Uttar Pradesh|                       1230|         2008|           1| 286|Uttar Pradesh|           11|        4|              18970000|        24|            0|                            32|                 2.56E7|                      698008|          18970000|                  1|            2|             0|                   0|                 0|           0|        12846470|           14227500|             0|                         3.0|             3.0|\n",
            "|    1020200017|   Bank_Name_11|        0|        08-08-2005|Business_Name_128762|               Delhi|                     543091|         2005|           1|  84|        Delhi|            6|       10|               4544750|         7|            5|                             9|               833333.0|                     2026719|           3150000|                  0|            1|             0|                   0|                 0|           0|               0|            1575000|             0|                         0.0|             0.0|\n",
            "|    1020200018|Bank_Name_36870|        0|        25-03-2005|Business_Name_170801|         Maharashtra|                     448341|         2005|           1| 120|      Haryana|            6|       44|               5495000|        10|            0|                             5|              3666667.0|                     1152186|           5495000|                  1|            0|             0|                   0|                 1|           0|               0|            4396000|             0|                         2.0|             2.0|\n",
            "|    1020200019|  Bank_Name_344|        0|        09-10-2005| Business_Name_57125|             Haryana|                     723341|         2005|           1|  83|      Haryana|            4|       12|               5180000|         7|            0|                            14|              1000000.0|                      436454|           5180000|                  1|            2|             0|                   0|                 1|           0|               0|            4144000|             0|                         1.0|             2.0|\n",
            "|    1020200020|Bank_Number_238|        1|        28-12-2010| Business_Name_34046|              Punjab|                     563220|         2010|           2|  60|       Punjab|            3|        4|               2800000|         5|            0|                            48|                 1.92E7|                     1608192|           2800000|                  1|            0|             0|                   0|                 1|           0|               0|            2240000|             0|                         8.0|             8.0|\n",
            "+--------------+---------------+---------+------------------+--------------------+--------------------+---------------------------+-------------+------------+----+-------------+-------------+---------+----------------------+----------+-------------+------------------------------+-----------------------+----------------------------+------------------+-------------------+-------------+--------------+--------------------+------------------+------------+----------------+-------------------+--------------+----------------------------+----------------+\n",
            "only showing top 20 rows\n",
            "\n"
          ]
        }
      ]
    },
    {
      "cell_type": "code",
      "source": [
        "ohe_encoder = OneHotEncoder(inputCols=[\"Business_Owner_State_indexer\", \"BankStateindexer\"],\n",
        "                        outputCols=[\"Business_Owner_State_vector\", \"BankStateVector\"])\n",
        "ohe_encoder = ohe_encoder.fit(df)\n",
        "df = ohe_encoder.transform(df)"
      ],
      "metadata": {
        "id": "66C6emlykcFM"
      },
      "execution_count": null,
      "outputs": []
    },
    {
      "cell_type": "code",
      "source": [
        "df.show(5)"
      ],
      "metadata": {
        "colab": {
          "base_uri": "https://localhost:8080/"
        },
        "id": "mx1z6s9QnwhH",
        "outputId": "38ec0c74-d30f-4eea-b897-d4f631c1213a"
      },
      "execution_count": null,
      "outputs": [
        {
          "output_type": "stream",
          "name": "stdout",
          "text": [
            "+--------------+--------------+---------+------------------+--------------------+--------------------+---------------------------+-------------+------------+----+-------------+-------------+---------+----------------------+----------+-------------+------------------------------+-----------------------+----------------------------+------------------+-------------------+-------------+--------------+--------------------+------------------+------------+----------------+-------------------+--------------+----------------------------+----------------+---------------------------+---------------+\n",
            "|Application ID|   Bank Masked|Bank Type|Approved_Timestamp|         Name Masked|Business Owner State|Business_Industry_Type_Code|Approved_Year|New Business|Term|    BankState|Interest Rate|Employees|Gross Disbursed Amount|Term_years|Jobs Retained|Male to Female Employees Ratio|Expected Company Income|Funds available with company|Gross_Apprv_Amount|Company Branch Code|City or Rural|Jobs Generated|Carry-forward Credit|Documents Provided|Balance Left|Amount Defaulted|Final_Appved_Amount|Default_Status|Business_Owner_State_indexer|BankStateindexer|Business_Owner_State_vector|BankStateVector|\n",
            "+--------------+--------------+---------+------------------+--------------------+--------------------+---------------------------+-------------+------------+----+-------------+-------------+---------+----------------------+----------+-------------+------------------------------+-----------------------+----------------------------+------------------+-------------------+-------------+--------------+--------------------+------------------+------------+----------------+-------------------+--------------+----------------------------+----------------+---------------------------+---------------+\n",
            "|    1020200001| Bank_Name_316|        0|        12-10-2005| Business_Name_10007|       Uttar Pradesh|                     525161|         2005|           1| 219|Uttar Pradesh|            3|       42|              18550000|        18|           18|                             4|              3500000.0|                      780590|          18550000|              25650|            1|             3|                   0|                 0|           0|               0|           13912500|             0|                         3.0|             3.0|              (9,[3],[1.0])| (11,[3],[1.0])|\n",
            "|    1020200002|Bank_Name_1062|        1|        21-11-2006|Business_Name_130906|       Uttar Pradesh|                       1231|         2006|           1|  71|Uttar Pradesh|            5|       20|               3045000|         6|           10|                            16|              1666667.0|                     1835637|           2450000|                  0|            1|             0|                   1|                 0|           0|         2369500|            1225000|             1|                         3.0|             3.0|              (9,[3],[1.0])| (11,[3],[1.0])|\n",
            "|    1020200003|  Bank_Name_39|        0|        28-11-2007|Business_Name_105953|       Uttar Pradesh|                     322442|         2007|           2|  84|  Maharashtra|            8|       16|               1750000|         7|           10|                             8|              1333333.0|                     2373333|           1750000|                  0|            2|             2|                   1|                 0|           0|               0|            1487500|             0|                         3.0|             1.0|              (9,[3],[1.0])| (11,[1],[1.0])|\n",
            "|    1020200004|   Bank_Name_3|        1|        18-04-2009|Business_Name_103197|              Kerala|                       1231|         2009|           1| 300|        Delhi|            8|        4|              38850000|        25|            2|                             6|               333333.0|                     2346786|          38850000|                  1|            1|             0|                   0|                 0|           0|               0|           29137500|             0|                         9.0|             0.0|                  (9,[],[])| (11,[0],[1.0])|\n",
            "|    1020200005| Bank_Name_126|        1|        23-11-2002|Business_Name_118932|               Delhi|                       1231|         2002|           2| 153|  Maharashtra|           11|        4|               2800000|        13|            0|                             8|               333333.0|                     2382995|           2800000|                  1|            2|             0|                   0|                 1|           0|               0|            2380000|             0|                         0.0|             1.0|              (9,[0],[1.0])| (11,[1],[1.0])|\n",
            "+--------------+--------------+---------+------------------+--------------------+--------------------+---------------------------+-------------+------------+----+-------------+-------------+---------+----------------------+----------+-------------+------------------------------+-----------------------+----------------------------+------------------+-------------------+-------------+--------------+--------------------+------------------+------------+----------------+-------------------+--------------+----------------------------+----------------+---------------------------+---------------+\n",
            "only showing top 5 rows\n",
            "\n"
          ]
        }
      ]
    },
    {
      "cell_type": "code",
      "source": [
        "df.count()"
      ],
      "metadata": {
        "colab": {
          "base_uri": "https://localhost:8080/"
        },
        "id": "bm_Jp-UncTAk",
        "outputId": "54388ee8-6da3-4428-8e8e-907e31dbf4e5"
      },
      "execution_count": null,
      "outputs": [
        {
          "output_type": "execute_result",
          "data": {
            "text/plain": [
              "195118"
            ]
          },
          "metadata": {},
          "execution_count": 23
        }
      ]
    },
    {
      "cell_type": "code",
      "source": [
        "df.select(F.col('Bank Masked')).distinct().count()"
      ],
      "metadata": {
        "colab": {
          "base_uri": "https://localhost:8080/"
        },
        "id": "R5NaLKQ1ikso",
        "outputId": "3c1a9f85-b343-42f9-d6a8-c8b56b6005d8"
      },
      "execution_count": null,
      "outputs": [
        {
          "output_type": "execute_result",
          "data": {
            "text/plain": [
              "42530"
            ]
          },
          "metadata": {},
          "execution_count": 24
        }
      ]
    },
    {
      "cell_type": "code",
      "source": [
        "df.select(F.col('Name Masked')).groupBy('Name Masked').count().show()"
      ],
      "metadata": {
        "colab": {
          "base_uri": "https://localhost:8080/"
        },
        "id": "1q4nr-Gyh_xU",
        "outputId": "7d2561fd-b9e5-4d59-a881-2b190c40c8a0"
      },
      "execution_count": null,
      "outputs": [
        {
          "output_type": "stream",
          "name": "stdout",
          "text": [
            "+--------------------+-----+\n",
            "|         Name Masked|count|\n",
            "+--------------------+-----+\n",
            "|Business_Name_140550|    1|\n",
            "|Business_Name_139609|    1|\n",
            "| Business_Name_73472|    1|\n",
            "| Business_Name_62132|    2|\n",
            "| Business_Name_28654|    1|\n",
            "|Business_Name_105970|    1|\n",
            "| Business_Name_84125|    2|\n",
            "| Business_Name_94290|    1|\n",
            "|Business_Name_104886|    1|\n",
            "| Business_Name_70810|    2|\n",
            "|Business_Name_119181|    1|\n",
            "|Business_Name_153633|    1|\n",
            "|Business_Name_108035|    1|\n",
            "| Business_Name_77717|    2|\n",
            "| Business_Name_97956|    1|\n",
            "| Business_Name_13852|    1|\n",
            "|  Business_Name_4697|    2|\n",
            "| Business_Name_50851|    2|\n",
            "| Business_Name_30859|    3|\n",
            "|Business_Name_104949|    1|\n",
            "+--------------------+-----+\n",
            "only showing top 20 rows\n",
            "\n"
          ]
        }
      ]
    },
    {
      "cell_type": "code",
      "source": [
        "df.select(F.col('Business Owner State')).groupBy('Business Owner State').count().show()"
      ],
      "metadata": {
        "colab": {
          "base_uri": "https://localhost:8080/"
        },
        "id": "ff28T9LIcfO6",
        "outputId": "3a173bb8-6de0-4862-b6ed-22caa328cea2"
      },
      "execution_count": null,
      "outputs": [
        {
          "output_type": "stream",
          "name": "stdout",
          "text": [
            "+--------------------+-----+\n",
            "|Business Owner State|count|\n",
            "+--------------------+-----+\n",
            "|           Karnataka|  798|\n",
            "|              Kerala|  543|\n",
            "|          Tamil Nadu| 2040|\n",
            "|              Punjab|  616|\n",
            "|                NULL|    3|\n",
            "|             Haryana|56421|\n",
            "|              Orissa| 2603|\n",
            "|               Delhi|58546|\n",
            "|         Maharashtra|48088|\n",
            "|       Uttar Pradesh|24167|\n",
            "|         Uttarakhand| 1293|\n",
            "+--------------------+-----+\n",
            "\n"
          ]
        }
      ]
    },
    {
      "cell_type": "code",
      "source": [
        "df.select(F.col('Bank Type')).groupBy('Bank Type').count().show()"
      ],
      "metadata": {
        "colab": {
          "base_uri": "https://localhost:8080/"
        },
        "id": "4ZQyd_6KcY5w",
        "outputId": "b3ab2acb-0c6e-4b93-947b-89759e93c451"
      },
      "execution_count": null,
      "outputs": [
        {
          "output_type": "stream",
          "name": "stdout",
          "text": [
            "+---------+------+\n",
            "|Bank Type| count|\n",
            "+---------+------+\n",
            "|        1| 64888|\n",
            "|        0|130230|\n",
            "+---------+------+\n",
            "\n"
          ]
        }
      ]
    },
    {
      "cell_type": "code",
      "source": [
        "numeric_cols.remove('Company Branch Code')"
      ],
      "metadata": {
        "id": "DdK9WaAMnIxu"
      },
      "execution_count": null,
      "outputs": []
    },
    {
      "cell_type": "code",
      "source": [
        "impute_cols = [c for c in numeric_cols if c != target]\n",
        "\n",
        "imputer = Imputer(inputCols=impute_cols,\n",
        "                  outputCols=[c + \"_imputed\" for c in impute_cols])\n",
        "df = imputer.fit(df).transform(df)"
      ],
      "metadata": {
        "id": "vjradf4JSAU4"
      },
      "execution_count": null,
      "outputs": []
    },
    {
      "cell_type": "code",
      "source": [
        "df.show(10)"
      ],
      "metadata": {
        "colab": {
          "base_uri": "https://localhost:8080/"
        },
        "id": "Cglt2cmHnN0F",
        "outputId": "d30e8034-af89-4b11-9cd8-6bdc09f750c7"
      },
      "execution_count": null,
      "outputs": [
        {
          "output_type": "stream",
          "name": "stdout",
          "text": [
            "+--------------+---------------+---------+------------------+--------------------+--------------------+---------------------------+-------------+------------+----+-------------+-------------+---------+----------------------+----------+-------------+------------------------------+-----------------------+----------------------------+------------------+-------------------+-------------+--------------+--------------------+------------------+------------+----------------+-------------------+--------------+----------------------------+----------------+---------------------------+---------------+-----------------+-----------------------------------+--------------------+------------+---------------------+-----------------+------------------------------+------------------+---------------------+--------------------------------------+-------------------------------+------------------------------------+--------------------------+---------------------+----------------------+----------------------------+--------------------------+--------------------+------------------------+---------------------------+\n",
            "|Application ID|    Bank Masked|Bank Type|Approved_Timestamp|         Name Masked|Business Owner State|Business_Industry_Type_Code|Approved_Year|New Business|Term|    BankState|Interest Rate|Employees|Gross Disbursed Amount|Term_years|Jobs Retained|Male to Female Employees Ratio|Expected Company Income|Funds available with company|Gross_Apprv_Amount|Company Branch Code|City or Rural|Jobs Generated|Carry-forward Credit|Documents Provided|Balance Left|Amount Defaulted|Final_Appved_Amount|Default_Status|Business_Owner_State_indexer|BankStateindexer|Business_Owner_State_vector|BankStateVector|Bank Type_imputed|Business_Industry_Type_Code_imputed|New Business_imputed|Term_imputed|Interest Rate_imputed|Employees_imputed|Gross Disbursed Amount_imputed|Term_years_imputed|Jobs Retained_imputed|Male to Female Employees Ratio_imputed|Expected Company Income_imputed|Funds available with company_imputed|Gross_Apprv_Amount_imputed|City or Rural_imputed|Jobs Generated_imputed|Carry-forward Credit_imputed|Documents Provided_imputed|Balance Left_imputed|Amount Defaulted_imputed|Final_Appved_Amount_imputed|\n",
            "+--------------+---------------+---------+------------------+--------------------+--------------------+---------------------------+-------------+------------+----+-------------+-------------+---------+----------------------+----------+-------------+------------------------------+-----------------------+----------------------------+------------------+-------------------+-------------+--------------+--------------------+------------------+------------+----------------+-------------------+--------------+----------------------------+----------------+---------------------------+---------------+-----------------+-----------------------------------+--------------------+------------+---------------------+-----------------+------------------------------+------------------+---------------------+--------------------------------------+-------------------------------+------------------------------------+--------------------------+---------------------+----------------------+----------------------------+--------------------------+--------------------+------------------------+---------------------------+\n",
            "|    1020200001|  Bank_Name_316|        0|        12-10-2005| Business_Name_10007|       Uttar Pradesh|                     525161|         2005|           1| 219|Uttar Pradesh|            3|       42|              18550000|        18|           18|                             4|              3500000.0|                      780590|          18550000|              25650|            1|             3|                   0|                 0|           0|               0|           13912500|             0|                         3.0|             3.0|              (9,[3],[1.0])| (11,[3],[1.0])|                0|                             525161|                   1|         219|                    3|               42|                      18550000|                18|                   18|                                     4|                      3500000.0|                              780590|                  18550000|                    1|                     3|                           0|                         0|                   0|                       0|                   13912500|\n",
            "|    1020200002| Bank_Name_1062|        1|        21-11-2006|Business_Name_130906|       Uttar Pradesh|                       1231|         2006|           1|  71|Uttar Pradesh|            5|       20|               3045000|         6|           10|                            16|              1666667.0|                     1835637|           2450000|                  0|            1|             0|                   1|                 0|           0|         2369500|            1225000|             1|                         3.0|             3.0|              (9,[3],[1.0])| (11,[3],[1.0])|                1|                               1231|                   1|          71|                    5|               20|                       3045000|                 6|                   10|                                    16|                      1666667.0|                             1835637|                   2450000|                    1|                     0|                           1|                         0|                   0|                 2369500|                    1225000|\n",
            "|    1020200003|   Bank_Name_39|        0|        28-11-2007|Business_Name_105953|       Uttar Pradesh|                     322442|         2007|           2|  84|  Maharashtra|            8|       16|               1750000|         7|           10|                             8|              1333333.0|                     2373333|           1750000|                  0|            2|             2|                   1|                 0|           0|               0|            1487500|             0|                         3.0|             1.0|              (9,[3],[1.0])| (11,[1],[1.0])|                0|                             322442|                   2|          84|                    8|               16|                       1750000|                 7|                   10|                                     8|                      1333333.0|                             2373333|                   1750000|                    2|                     2|                           1|                         0|                   0|                       0|                    1487500|\n",
            "|    1020200004|    Bank_Name_3|        1|        18-04-2009|Business_Name_103197|              Kerala|                       1231|         2009|           1| 300|        Delhi|            8|        4|              38850000|        25|            2|                             6|               333333.0|                     2346786|          38850000|                  1|            1|             0|                   0|                 0|           0|               0|           29137500|             0|                         9.0|             0.0|                  (9,[],[])| (11,[0],[1.0])|                1|                               1231|                   1|         300|                    8|                4|                      38850000|                25|                    2|                                     6|                       333333.0|                             2346786|                  38850000|                    1|                     0|                           0|                         0|                   0|                       0|                   29137500|\n",
            "|    1020200005|  Bank_Name_126|        1|        23-11-2002|Business_Name_118932|               Delhi|                       1231|         2002|           2| 153|  Maharashtra|           11|        4|               2800000|        13|            0|                             8|               333333.0|                     2382995|           2800000|                  1|            2|             0|                   0|                 1|           0|               0|            2380000|             0|                         0.0|             1.0|              (9,[0],[1.0])| (11,[1],[1.0])|                1|                               1231|                   2|         153|                   11|                4|                       2800000|                13|                    0|                                     8|                       333333.0|                             2382995|                   2800000|                    2|                     0|                           0|                         1|                   0|                       0|                    2380000|\n",
            "|    1020200006| Bank_Name_1281|        0|        23-12-2009|Business_Name_135212|         Maharashtra|                     239391|         2009|           1|  84|  Maharashtra|            6|       10|              10500000|         7|            0|                            16|               833333.0|                      392186|          10500000|                  1|            2|             0|                   0|                 1|           0|               0|            7875000|             0|                         2.0|             1.0|              (9,[2],[1.0])| (11,[1],[1.0])|                0|                             239391|                   1|          84|                    6|               10|                      10500000|                 7|                    0|                                    16|                       833333.0|                              392186|                  10500000|                    2|                     0|                           0|                         1|                   0|                       0|                    7875000|\n",
            "|    1020200007|   Bank_Name_33|        0|        04-10-2009| Business_Name_60742|               Delhi|                     423561|         2009|           2|  60|        Delhi|            6|        2|               2310000|         5|            0|                             9|               166667.0|                     2496022|           2310000|                  1|            0|             0|                   0|                 1|           0|               0|            1848000|             0|                         0.0|             0.0|              (9,[0],[1.0])| (11,[0],[1.0])|                0|                             423561|                   2|          60|                    6|                2|                       2310000|                 5|                    0|                                     9|                       166667.0|                             2496022|                   2310000|                    0|                     0|                           0|                         1|                   0|                       0|                    1848000|\n",
            "|    1020200008|   Bank_Name_33|        0|        03-03-2006| Business_Name_99424|       Uttar Pradesh|                     443530|         2006|           1|  60|        Delhi|            6|        6|               3500000|         5|            2|                             5|               500000.0|                     1525676|           3500000|                  1|            0|             0|                   0|                 0|           0|               0|            1750000|             0|                         3.0|             0.0|              (9,[3],[1.0])| (11,[0],[1.0])|                0|                             443530|                   1|          60|                    6|                6|                       3500000|                 5|                    2|                                     5|                       500000.0|                             1525676|                   3500000|                    0|                     0|                           0|                         0|                   0|                       0|                    1750000|\n",
            "|    1020200009|Bank_Name_12778|        1|        03-08-2017|Business_Name_146709|             Haryana|                       1231|         2017|           2|  73|      Haryana|            5|        2|               4900000|         6|            0|                            10|               166667.0|                     2358557|           4900000|                  1|            0|             0|                   0|                 1|           0|               0|            3920000|             0|                         1.0|             2.0|              (9,[1],[1.0])| (11,[2],[1.0])|                1|                               1231|                   2|          73|                    5|                2|                       4900000|                 6|                    0|                                    10|                       166667.0|                             2358557|                   4900000|                    0|                     0|                           0|                         1|                   0|                       0|                    3920000|\n",
            "|    1020200010|   Bank_Name_17|        0|        20-06-2017| Business_Name_17874|         Maharashtra|                     542341|         2017|           1| 120|        Delhi|           12|       60|              42000000|        10|            0|                            10|              5000000.0|                     1186740|          42000000|                  1|            0|             0|                   0|                 0|           0|               0|           31500000|             0|                         2.0|             0.0|              (9,[2],[1.0])| (11,[0],[1.0])|                0|                             542341|                   1|         120|                   12|               60|                      42000000|                10|                    0|                                    10|                      5000000.0|                             1186740|                  42000000|                    0|                     0|                           0|                         0|                   0|                       0|                   31500000|\n",
            "+--------------+---------------+---------+------------------+--------------------+--------------------+---------------------------+-------------+------------+----+-------------+-------------+---------+----------------------+----------+-------------+------------------------------+-----------------------+----------------------------+------------------+-------------------+-------------+--------------+--------------------+------------------+------------+----------------+-------------------+--------------+----------------------------+----------------+---------------------------+---------------+-----------------+-----------------------------------+--------------------+------------+---------------------+-----------------+------------------------------+------------------+---------------------+--------------------------------------+-------------------------------+------------------------------------+--------------------------+---------------------+----------------------+----------------------------+--------------------------+--------------------+------------------------+---------------------------+\n",
            "only showing top 10 rows\n",
            "\n"
          ]
        }
      ]
    },
    {
      "cell_type": "code",
      "source": [
        "df[numeric_cols].show(10)"
      ],
      "metadata": {
        "colab": {
          "base_uri": "https://localhost:8080/"
        },
        "id": "sU9zth6CSM4r",
        "outputId": "353d351d-5dfa-4e88-9bce-c0d5d06b5446"
      },
      "execution_count": null,
      "outputs": [
        {
          "output_type": "stream",
          "name": "stdout",
          "text": [
            "+---------+---------------------------+------------+----+-------------+---------+----------------------+----------+-------------+------------------------------+-----------------------+----------------------------+------------------+-------------+--------------+--------------------+------------------+------------+----------------+-------------------+--------------+\n",
            "|Bank Type|Business_Industry_Type_Code|New Business|Term|Interest Rate|Employees|Gross Disbursed Amount|Term_years|Jobs Retained|Male to Female Employees Ratio|Expected Company Income|Funds available with company|Gross_Apprv_Amount|City or Rural|Jobs Generated|Carry-forward Credit|Documents Provided|Balance Left|Amount Defaulted|Final_Appved_Amount|Default_Status|\n",
            "+---------+---------------------------+------------+----+-------------+---------+----------------------+----------+-------------+------------------------------+-----------------------+----------------------------+------------------+-------------+--------------+--------------------+------------------+------------+----------------+-------------------+--------------+\n",
            "|        0|                     525161|           1| 219|            3|       42|              18550000|        18|           18|                             4|              3500000.0|                      780590|          18550000|            1|             3|                   0|                 0|           0|               0|           13912500|             0|\n",
            "|        1|                       1231|           1|  71|            5|       20|               3045000|         6|           10|                            16|              1666667.0|                     1835637|           2450000|            1|             0|                   1|                 0|           0|         2369500|            1225000|             1|\n",
            "|        0|                     322442|           2|  84|            8|       16|               1750000|         7|           10|                             8|              1333333.0|                     2373333|           1750000|            2|             2|                   1|                 0|           0|               0|            1487500|             0|\n",
            "|        1|                       1231|           1| 300|            8|        4|              38850000|        25|            2|                             6|               333333.0|                     2346786|          38850000|            1|             0|                   0|                 0|           0|               0|           29137500|             0|\n",
            "|        1|                       1231|           2| 153|           11|        4|               2800000|        13|            0|                             8|               333333.0|                     2382995|           2800000|            2|             0|                   0|                 1|           0|               0|            2380000|             0|\n",
            "|        0|                     239391|           1|  84|            6|       10|              10500000|         7|            0|                            16|               833333.0|                      392186|          10500000|            2|             0|                   0|                 1|           0|               0|            7875000|             0|\n",
            "|        0|                     423561|           2|  60|            6|        2|               2310000|         5|            0|                             9|               166667.0|                     2496022|           2310000|            0|             0|                   0|                 1|           0|               0|            1848000|             0|\n",
            "|        0|                     443530|           1|  60|            6|        6|               3500000|         5|            2|                             5|               500000.0|                     1525676|           3500000|            0|             0|                   0|                 0|           0|               0|            1750000|             0|\n",
            "|        1|                       1231|           2|  73|            5|        2|               4900000|         6|            0|                            10|               166667.0|                     2358557|           4900000|            0|             0|                   0|                 1|           0|               0|            3920000|             0|\n",
            "|        0|                     542341|           1| 120|           12|       60|              42000000|        10|            0|                            10|              5000000.0|                     1186740|          42000000|            0|             0|                   0|                 0|           0|               0|           31500000|             0|\n",
            "+---------+---------------------------+------------+----+-------------+---------+----------------------+----------+-------------+------------------------------+-----------------------+----------------------------+------------------+-------------+--------------+--------------------+------------------+------------+----------------+-------------------+--------------+\n",
            "only showing top 10 rows\n",
            "\n"
          ]
        }
      ]
    },
    {
      "cell_type": "code",
      "source": [
        "for c in impute_cols:\n",
        "    df = df.drop(c).withColumnRenamed(c + \"_imputed\", c)"
      ],
      "metadata": {
        "id": "TeHeTAgSSMKR"
      },
      "execution_count": null,
      "outputs": []
    },
    {
      "cell_type": "markdown",
      "source": [
        "### ML Pipeline"
      ],
      "metadata": {
        "id": "2sfJvfw8SYZ5"
      }
    },
    {
      "cell_type": "code",
      "source": [
        "feature_cols = [c for c in numeric_cols if c != target]\n"
      ],
      "metadata": {
        "id": "vDKWHl6aSUHX"
      },
      "execution_count": null,
      "outputs": []
    },
    {
      "cell_type": "code",
      "source": [
        "feature_cols.append('Business_Owner_State_indexer')\n",
        "feature_cols.append('BankStateindexer')"
      ],
      "metadata": {
        "id": "mhcuNFC-SfC0"
      },
      "execution_count": null,
      "outputs": []
    },
    {
      "cell_type": "code",
      "source": [
        "df[feature_cols].show(10)"
      ],
      "metadata": {
        "colab": {
          "base_uri": "https://localhost:8080/"
        },
        "id": "jnXmcTQAqKqs",
        "outputId": "f8af4049-df26-444a-a6b2-2564a2c7d7ca"
      },
      "execution_count": null,
      "outputs": [
        {
          "output_type": "stream",
          "name": "stdout",
          "text": [
            "+---------+---------------------------+------------+----+-------------+---------+----------------------+----------+-------------+------------------------------+-----------------------+----------------------------+------------------+-------------+--------------+--------------------+------------------+------------+----------------+-------------------+----------------------------+----------------+\n",
            "|Bank Type|Business_Industry_Type_Code|New Business|Term|Interest Rate|Employees|Gross Disbursed Amount|Term_years|Jobs Retained|Male to Female Employees Ratio|Expected Company Income|Funds available with company|Gross_Apprv_Amount|City or Rural|Jobs Generated|Carry-forward Credit|Documents Provided|Balance Left|Amount Defaulted|Final_Appved_Amount|Business_Owner_State_indexer|BankStateindexer|\n",
            "+---------+---------------------------+------------+----+-------------+---------+----------------------+----------+-------------+------------------------------+-----------------------+----------------------------+------------------+-------------+--------------+--------------------+------------------+------------+----------------+-------------------+----------------------------+----------------+\n",
            "|        0|                     525161|           1| 219|            3|       42|              18550000|        18|           18|                             4|              3500000.0|                      780590|          18550000|            1|             3|                   0|                 0|           0|               0|           13912500|                         3.0|             3.0|\n",
            "|        1|                       1231|           1|  71|            5|       20|               3045000|         6|           10|                            16|              1666667.0|                     1835637|           2450000|            1|             0|                   1|                 0|           0|         2369500|            1225000|                         3.0|             3.0|\n",
            "|        0|                     322442|           2|  84|            8|       16|               1750000|         7|           10|                             8|              1333333.0|                     2373333|           1750000|            2|             2|                   1|                 0|           0|               0|            1487500|                         3.0|             1.0|\n",
            "|        1|                       1231|           1| 300|            8|        4|              38850000|        25|            2|                             6|               333333.0|                     2346786|          38850000|            1|             0|                   0|                 0|           0|               0|           29137500|                         9.0|             0.0|\n",
            "|        1|                       1231|           2| 153|           11|        4|               2800000|        13|            0|                             8|               333333.0|                     2382995|           2800000|            2|             0|                   0|                 1|           0|               0|            2380000|                         0.0|             1.0|\n",
            "|        0|                     239391|           1|  84|            6|       10|              10500000|         7|            0|                            16|               833333.0|                      392186|          10500000|            2|             0|                   0|                 1|           0|               0|            7875000|                         2.0|             1.0|\n",
            "|        0|                     423561|           2|  60|            6|        2|               2310000|         5|            0|                             9|               166667.0|                     2496022|           2310000|            0|             0|                   0|                 1|           0|               0|            1848000|                         0.0|             0.0|\n",
            "|        0|                     443530|           1|  60|            6|        6|               3500000|         5|            2|                             5|               500000.0|                     1525676|           3500000|            0|             0|                   0|                 0|           0|               0|            1750000|                         3.0|             0.0|\n",
            "|        1|                       1231|           2|  73|            5|        2|               4900000|         6|            0|                            10|               166667.0|                     2358557|           4900000|            0|             0|                   0|                 1|           0|               0|            3920000|                         1.0|             2.0|\n",
            "|        0|                     542341|           1| 120|           12|       60|              42000000|        10|            0|                            10|              5000000.0|                     1186740|          42000000|            0|             0|                   0|                 0|           0|               0|           31500000|                         2.0|             0.0|\n",
            "+---------+---------------------------+------------+----+-------------+---------+----------------------+----------+-------------+------------------------------+-----------------------+----------------------------+------------------+-------------+--------------+--------------------+------------------+------------+----------------+-------------------+----------------------------+----------------+\n",
            "only showing top 10 rows\n",
            "\n"
          ]
        }
      ]
    },
    {
      "cell_type": "code",
      "source": [
        "ohe_encoder = OneHotEncoder(inputCols=[\"Business_Owner_State_indexer\", \"BankStateindexer\"],\n",
        "                        outputCols=[\"Business_Owner_State_Vector\", \"BankStateVec\"])"
      ],
      "metadata": {
        "id": "1iUv-rKDoNUS"
      },
      "execution_count": null,
      "outputs": []
    },
    {
      "cell_type": "code",
      "source": [
        "assembler = VectorAssembler(inputCols=feature_cols, outputCol=\"features\")"
      ],
      "metadata": {
        "id": "ongKoKWlSiYs"
      },
      "execution_count": null,
      "outputs": []
    },
    {
      "cell_type": "code",
      "source": [
        "scaler = StandardScaler(inputCol=\"features\", outputCol=\"scaledFeatures\")"
      ],
      "metadata": {
        "id": "KnSzEsLkSlmJ"
      },
      "execution_count": null,
      "outputs": []
    },
    {
      "cell_type": "code",
      "source": [
        "lr = LogisticRegression(featuresCol=\"scaledFeatures\", labelCol=target)"
      ],
      "metadata": {
        "id": "2lw6F4K2SnIR"
      },
      "execution_count": null,
      "outputs": []
    },
    {
      "cell_type": "code",
      "source": [
        "df = spark.read.csv(\"/content/drive/MyDrive/Colab Notebooks/Train_Set_90621.csv\", header=True, inferSchema=True)"
      ],
      "metadata": {
        "id": "KO3dUaQNvHDe"
      },
      "execution_count": null,
      "outputs": []
    },
    {
      "cell_type": "code",
      "source": [
        "df = df.withColumn(\"Expected Company Income\", df[\"Expected Company Income\"].cast(DoubleType()))\n",
        "df = df.withColumn(\"Business Owner State\", df[\"Business Owner State\"].cast(DoubleType()))\n",
        "df = df.withColumn(\"BankState\", df[\"BankState\"].cast(DoubleType()))\n",
        "df = df.withColumn(\"Documents Provided\", F.when(F.col(\"Documents Provided\") == \"Y\", 1).otherwise(0))\n",
        "df = df.withColumn(\"Carry-forward Credit\", F.when(F.col(\"Carry-forward Credit\") == \"Y\", 1).otherwise(0))\n",
        "df = df.withColumn(\"Bank Type\", F.when(F.col(\"Bank Type\") == \"Govt\", 1).otherwise(0))\n",
        "owner_indexer = StringIndexer(inputCol=\"Business Owner State\", outputCol=\"Business_Owner_State_indexer\")\n",
        "bank_indexer = StringIndexer(inputCol=\"BankState\", outputCol=\"BankStateindexer\")\n"
      ],
      "metadata": {
        "id": "VUybGjxovu4j"
      },
      "execution_count": null,
      "outputs": []
    },
    {
      "cell_type": "code",
      "source": [
        "df = spark.read.csv(\"/content/drive/MyDrive/Colab Notebooks/Train_Set_90621.csv\", header=True, inferSchema=True)\n",
        "\n",
        "\n",
        "# Explicitly rename columns to remove spaces and special characters\n",
        "for c in df.columns:\n",
        "    df = df.withColumnRenamed(c, c.replace(' ', '_').replace('-', '_'))\n",
        "\n",
        "# Fill remaining missing numeric values with 0\n",
        "numeric_columns = ['Business_Industry_Type_Code', 'New_Business', 'Term', 'Interest_Rate',\n",
        "                   'Employees', 'Gross_Disbursed_Amount', 'Jobs_Retained',\n",
        "                   'Male_to_Female_Employees_Ratio', 'Expected_Company_Income',\n",
        "                   'Funds_available_with_company', 'Gross_Apprv_Amount',\n",
        "                   'City_or_Rural', 'Jobs_Generated', 'Balance_Left',\n",
        "                   'Amount_Defaulted', 'Final_Appved_Amount']\n",
        "\n",
        "df = df.fillna(0, subset=numeric_columns)\n",
        "\n",
        "categorical_columns = ['Bank_Type', 'Business_Owner_State', 'Carry_forward_Credit', 'Documents_Provided']\n",
        "df = df.fillna('Unknown', subset=categorical_columns)\n",
        "\n",
        "indexers = [StringIndexer(inputCol=col, outputCol=f\"{col}_Indexed\", handleInvalid=\"keep\") for col in categorical_columns]\n",
        "\n",
        "for col_name in numeric_columns:\n",
        "    df = df.withColumn(col_name, F.col(col_name).cast(\"double\"))\n",
        "\n",
        "assembler_input = [f\"{col}_Indexed\" for col in categorical_columns] + numeric_columns\n",
        "assembler = VectorAssembler(inputCols=assembler_input, outputCol=\"features\", handleInvalid=\"keep\")\n",
        "\n",
        "lr = LogisticRegression(featuresCol=\"features\", labelCol=\"Default_Status\")\n",
        "\n",
        "pipeline = Pipeline(stages=indexers + [assembler, lr])\n",
        "\n",
        "pipeline_model = pipeline.fit(df)\n"
      ],
      "metadata": {
        "colab": {
          "base_uri": "https://localhost:8080/"
        },
        "id": "fscLoHWG7blS",
        "outputId": "47f91a55-9684-4d7c-e8e2-c1d93cb92f12"
      },
      "execution_count": null,
      "outputs": [
        {
          "output_type": "stream",
          "name": "stdout",
          "text": [
            "+--------------------+--------------+----------+\n",
            "|            features|Default_Status|prediction|\n",
            "+--------------------+--------------+----------+\n",
            "|[0.0,3.0,0.0,0.0,...|             0|       0.0|\n",
            "|[1.0,3.0,1.0,0.0,...|             1|       0.0|\n",
            "|[0.0,3.0,1.0,0.0,...|             0|       0.0|\n",
            "|[1.0,9.0,0.0,0.0,...|             0|       0.0|\n",
            "|[1.0,0.0,0.0,1.0,...|             0|       0.0|\n",
            "|[0.0,2.0,0.0,1.0,...|             0|       0.0|\n",
            "|(20,[3,4,5,6,7,8,...|             0|       0.0|\n",
            "|[0.0,3.0,0.0,0.0,...|             0|       0.0|\n",
            "|[1.0,1.0,0.0,1.0,...|             0|       0.0|\n",
            "|(20,[1,4,5,6,7,8,...|             0|       0.0|\n",
            "+--------------------+--------------+----------+\n",
            "only showing top 10 rows\n",
            "\n"
          ]
        }
      ]
    },
    {
      "cell_type": "code",
      "source": [
        "target='Default_Status'"
      ],
      "metadata": {
        "id": "H6eYGlfFwr5E"
      },
      "execution_count": null,
      "outputs": []
    },
    {
      "cell_type": "code",
      "source": [
        "pipeline = Pipeline(stages=[owner_indexer, bank_indexer, ohe_encoder, assembler, scaler, lr])"
      ],
      "metadata": {
        "id": "cASFXJWtSrnT"
      },
      "execution_count": null,
      "outputs": []
    },
    {
      "cell_type": "code",
      "source": [
        "transformed_df = pipeline_model.transform(df)"
      ],
      "metadata": {
        "id": "BZsGrUvYzyuF"
      },
      "execution_count": null,
      "outputs": []
    },
    {
      "cell_type": "code",
      "source": [
        "train_df, test_df = df.randomSplit([0.7, 0.3], seed=42)"
      ],
      "metadata": {
        "id": "VExhHCrDTASs"
      },
      "execution_count": null,
      "outputs": []
    },
    {
      "cell_type": "code",
      "source": [
        "paramGrid = ParamGridBuilder() \\\n",
        "    .addGrid(lr.regParam, [0.01, 0.1, 1.0]) \\\n",
        "    .addGrid(lr.elasticNetParam, [0.0, 0.5, 1.0]) \\\n",
        "    .build()"
      ],
      "metadata": {
        "id": "bkhoiiVeTCXH"
      },
      "execution_count": null,
      "outputs": []
    },
    {
      "cell_type": "code",
      "source": [
        "evaluator = BinaryClassificationEvaluator(labelCol=target)"
      ],
      "metadata": {
        "id": "E6sKWIXbTDbF"
      },
      "execution_count": null,
      "outputs": []
    },
    {
      "cell_type": "code",
      "source": [
        "cv = CrossValidator(estimator=pipeline,\n",
        "                    estimatorParamMaps=paramGrid,\n",
        "                    evaluator=evaluator,\n",
        "                    numFolds=3)"
      ],
      "metadata": {
        "id": "301V0KGcTI6z"
      },
      "execution_count": null,
      "outputs": []
    },
    {
      "cell_type": "code",
      "source": [
        "cvModel = cv.fit(train_df)"
      ],
      "metadata": {
        "id": "LiZh7yBhTLTk"
      },
      "execution_count": null,
      "outputs": []
    },
    {
      "cell_type": "code",
      "source": [
        "cvModel.bestModel.write().overwrite().save(\"saved_pipeline\")\n",
        "\n",
        "predictions = cvModel.transform(test_df)\n",
        "predictions.select(\"features\", \"Default_Status\", \"prediction\", \"probability\").show(5)\n",
        "\n",
        "# Compute and print AUC\n",
        "auc = evaluator.evaluate(predictions)\n",
        "print(\"Test AUC: \", auc)"
      ],
      "metadata": {
        "id": "FAOwHkjNQBQ8",
        "colab": {
          "base_uri": "https://localhost:8080/"
        },
        "outputId": "053bf720-3f3f-47be-9b9b-9a089d88633e"
      },
      "execution_count": null,
      "outputs": [
        {
          "output_type": "stream",
          "name": "stdout",
          "text": [
            "+--------------------+--------------+----------+--------------------+\n",
            "|            features|Default_Status|prediction|         probability|\n",
            "+--------------------+--------------+----------+--------------------+\n",
            "|[0.0,3.0,1.0,0.0,...|             0|       0.0|[0.82195747651187...|\n",
            "|(20,[3,4,5,6,7,8,...|             0|       0.0|[0.82195747651187...|\n",
            "|[1.0,1.0,0.0,1.0,...|             0|       0.0|[0.82195747651187...|\n",
            "|(20,[1,4,5,6,7,8,...|             0|       0.0|[0.82195747651187...|\n",
            "|[0.0,2.0,0.0,0.0,...|             0|       0.0|[0.82195747651187...|\n",
            "+--------------------+--------------+----------+--------------------+\n",
            "only showing top 5 rows\n",
            "\n",
            "Test AUC:  0.8267301783002465\n"
          ]
        }
      ]
    },
    {
      "cell_type": "code",
      "source": [
        "spark.stop()\n"
      ],
      "metadata": {
        "id": "al0Gl7bKphd-"
      },
      "execution_count": null,
      "outputs": []
    }
  ],
  "metadata": {
    "colab": {
      "provenance": []
    },
    "kernelspec": {
      "display_name": "Python 3",
      "language": "python",
      "name": "python3"
    },
    "language_info": {
      "codemirror_mode": {
        "name": "ipython",
        "version": 3
      },
      "file_extension": ".py",
      "mimetype": "text/x-python",
      "name": "python",
      "nbconvert_exporter": "python",
      "pygments_lexer": "ipython3",
      "version": "3.8.8"
    }
  },
  "nbformat": 4,
  "nbformat_minor": 0
}